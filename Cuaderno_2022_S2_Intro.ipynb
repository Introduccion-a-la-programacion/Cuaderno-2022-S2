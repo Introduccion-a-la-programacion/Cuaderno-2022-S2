{
  "nbformat": 4,
  "nbformat_minor": 0,
  "metadata": {
    "colab": {
      "name": "Cuaderno 2022 S2 Intro.ipynb",
      "provenance": [],
      "authorship_tag": "ABX9TyPBlhZNC+HxRc6bnzQxfMzV",
      "include_colab_link": true
    },
    "kernelspec": {
      "name": "python3",
      "display_name": "Python 3"
    },
    "language_info": {
      "name": "python"
    }
  },
  "cells": [
    {
      "cell_type": "markdown",
      "metadata": {
        "id": "view-in-github",
        "colab_type": "text"
      },
      "source": [
        "<a href=\"https://colab.research.google.com/github/Introduccion-a-la-programacion/Cuaderno-2022-S2/blob/main/Cuaderno_2022_S2_Intro.ipynb\" target=\"_parent\"><img src=\"https://colab.research.google.com/assets/colab-badge.svg\" alt=\"Open In Colab\"/></a>"
      ]
    },
    {
      "cell_type": "markdown",
      "source": [
        "# Esto es una prueba de título"
      ],
      "metadata": {
        "id": "7QIznbqNmBZk"
      }
    }
  ]
}